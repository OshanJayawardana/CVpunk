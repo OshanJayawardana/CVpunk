{
 "metadata": {
  "language_info": {
   "codemirror_mode": {
    "name": "ipython",
    "version": 3
   },
   "file_extension": ".py",
   "mimetype": "text/x-python",
   "name": "python",
   "nbconvert_exporter": "python",
   "pygments_lexer": "ipython3",
   "version": "3.9.0-final"
  },
  "orig_nbformat": 2,
  "kernelspec": {
   "name": "python3",
   "display_name": "Python 3",
   "language": "python"
  }
 },
 "nbformat": 4,
 "nbformat_minor": 2,
 "cells": [
  {
   "source": [
    "# Egdes corners and blobs"
   ],
   "cell_type": "markdown",
   "metadata": {}
  },
  {
   "cell_type": "code",
   "execution_count": 9,
   "metadata": {},
   "outputs": [],
   "source": [
    "import cv2 as cv\n",
    "import numpy as numpy\n",
    "\n",
    "hi_threshold_max = 255\n",
    "title_window = 'Canny'\n",
    "\n",
    "ratio = 0.3             # setting an initiating value\n",
    "hi_threshold = 255      # setting an initiating value\n",
    "low_threshold = hi_threshold*ratio"
   ]
  },
  {
   "source": [
    "## The math.floor() method rounds a number DOWN to the nearest integer, if necessary, and returns the result."
   ],
   "cell_type": "markdown",
   "metadata": {}
  },
  {
   "cell_type": "code",
   "execution_count": 10,
   "metadata": {},
   "outputs": [],
   "source": [
    "def on_trackabar(val):\n",
    "    hi_threshold = cv.getTrackbarPos(trackbar1_name, title_window) # getting the value of the first trackbar(high threshold value)\n",
    "    ratio = cv.getTrackbarPos(trackbar2_name, title_window)/100.   # getting the value of the second trackbar value(ratio)\n",
    "    low_threshold = hi_threshold*ratio                             # calculating the low threshold value using the ratio\n",
    "    edges = cv.Canny(im,low_threshold,hi_threshold)                # creates canny edge detected image array using threshold values.\n",
    "    cv.imshow(title_window, edges)                                 # display the edges in the current window or creates a new window "
   ]
  },
  {
   "source": [
    "Here we have created the function to run using the trackbar values"
   ],
   "cell_type": "markdown",
   "metadata": {}
  },
  {
   "source": [
    "You can get a clear idea about canny edge detection in [this](https://docs.opencv.org/master/da/d22/tutorial_py_canny.html) documentation."
   ],
   "cell_type": "markdown",
   "metadata": {}
  },
  {
   "cell_type": "code",
   "execution_count": 14,
   "metadata": {},
   "outputs": [],
   "source": [
    "im = cv.imread('D:/ACA/Github/CVpunk/images/puja.jpg', cv.IMREAD_COLOR) # reading the image to an array\n",
    "\n",
    "cv.namedWindow(title_window)                                            # creating a new window to display the output\n",
    "trackbar1_name = 'High Threshold Value'                                 # setting a name for the first trackbar\n",
    "cv.createTrackbar(trackbar1_name,title_window, hi_threshold, hi_threshold_max,on_trackabar) # creating trackbar in the given window\n",
    "trackbar2_name = 'Low Threshold %'\n",
    "cv.createTrackbar(trackbar2_name,title_window, 1, 100,on_trackabar) # creating a second trackbar in the given window\n",
    "on_trackabar(hi_threshold)\n",
    "cv.waitKey()\n",
    "cv.destroyAllWindows()"
   ]
  },
  {
   "source": [
    "cv.createtrackbar feeds it data to the assigned function in the parameters(on_trackabar).\n",
    "\n",
    "Then by calling the function we can run the function using the trackbar data"
   ],
   "cell_type": "markdown",
   "metadata": {}
  },
  {
   "source": [
    "This stage decides which are all edges are really edges and which are not. For this, we need two threshold values, minVal and maxVal. Any edges with intensity gradient more than maxVal are sure to be edges and those below minVal are sure to be non-edges, so discarded. Those who lie between these two thresholds are classified edges or non-edges based on their connectivity. If they are connected to \"sure-edge\" pixels, they are considered to be part of edges. Otherwise, they are also discarded."
   ],
   "cell_type": "markdown",
   "metadata": {}
  }
 ]
}